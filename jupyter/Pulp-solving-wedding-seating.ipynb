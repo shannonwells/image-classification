{
 "cells": [
  {
   "cell_type": "markdown",
   "id": "7ecdec42",
   "metadata": {},
   "source": [
    "# Use pulp to solve a wedding seating problem\n",
    "\n",
    "We have a list of wedding guests who have a strange desire to be seated alone, or otherwise alphabetically as closely as possible. There are 5 tables and 4 seats at each. This notebook shows how to use the PuLP linear problem library to come up with the best seating arrangement."
   ]
  },
  {
   "cell_type": "code",
   "execution_count": 173,
   "id": "fa8d7bf0",
   "metadata": {},
   "outputs": [],
   "source": [
    "import pulp"
   ]
  },
  {
   "cell_type": "code",
   "execution_count": 174,
   "id": "b3eabd30",
   "metadata": {},
   "outputs": [],
   "source": [
    "max_tables = 5\n",
    "max_table_size = 4\n",
    "guests = 'Ang Bai Cat Don Ed Fin Gru Ida Jo Koa Li Min Nan Odo Pip Q Rip'.split()"
   ]
  },
  {
   "cell_type": "markdown",
   "id": "b9e5d593",
   "metadata": {},
   "source": [
    "### Unhappiness function\n",
    "The unhappiness of the table is defined as the largest distance between the first and last \"guests\". For simplicity, the function looks only at the first letter of each guest name and assumes that the list is already sorted.\n",
    "\n",
    "This was called 'happiness' in the original example, but since we're supposed to minimize this value, it should really be called 'unhappiness'.  I found this extremely confusing until I realized the function name was just bad.  #namingishard?"
   ]
  },
  {
   "cell_type": "code",
   "execution_count": 175,
   "id": "749571b4",
   "metadata": {},
   "outputs": [],
   "source": [
    "def unhappiness(table):\n",
    "    return abs(ord(table[0][0]) - ord(table[-1][0]))"
   ]
  },
  {
   "cell_type": "markdown",
   "id": "5aac0091",
   "metadata": {},
   "source": [
    "**generate possible seating arrangements**, and display one of the tables to illustrate one"
   ]
  },
  {
   "cell_type": "code",
   "execution_count": 176,
   "id": "4e18c125",
   "metadata": {},
   "outputs": [
    {
     "name": "stdout",
     "output_type": "stream",
     "text": [
      "('Ang', 'Koa', 'Li')\n"
     ]
    }
   ],
   "source": [
    "combos = pulp.allcombinations(guests, max_table_size)\n",
    "possible_tables = [tuple(c) for c in combos]\n",
    "\n",
    "print(possible_tables[245])"
   ]
  },
  {
   "cell_type": "markdown",
   "id": "b8a44ae1",
   "metadata": {},
   "source": [
    "### create a binary variable dictionary to indicate if a table setting is used\n",
    "\n",
    "[LpVariable.dicts](https://coin-or.github.io/pulp/technical/pulp.html?highlight=dicts#pulp.LpVariable.dicts), a class method, creates a dictionary of LpVariable with the specified associated parameters\n",
    "\n",
    "Each possible table setting will eventually have a not-used/used value of 0 or 1.  This method simply creates a dict with:\n",
    "* keys = the values of the possible table seatings, \n",
    "* values = LpVariables with a variable name of table_&lt;key&gt;, and which can be either 0 or 1.\n"
   ]
  },
  {
   "cell_type": "code",
   "execution_count": 177,
   "id": "f6820383",
   "metadata": {},
   "outputs": [
    {
     "name": "stdout",
     "output_type": "stream",
     "text": [
      "Example key: \n",
      "('Ang', 'Koa', 'Li')\n",
      "\n",
      "The nth key in the dict x: \n",
      "table_('Ang',_'Koa',_'Li')\n"
     ]
    }
   ],
   "source": [
    "x = pulp.LpVariable.dicts('table', possible_tables, \n",
    "                            lowBound = 0,\n",
    "                            upBound = 1,\n",
    "                            cat = pulp.LpInteger)\n",
    "\n",
    "nthKey=list(x)[245]\n",
    "print(\"Example key: \")\n",
    "print(nthKey)\n",
    "print(\"\\nThe nth key in the dict x: \")\n",
    "print(x[nthKey])"
   ]
  },
  {
   "cell_type": "markdown",
   "id": "a6d98886",
   "metadata": {},
   "source": [
    "### Create the seating model\n",
    "create a new LpProblem called \"WeddingSeatingModel\", whose goal is to minimize the alphabetic distance between the guests."
   ]
  },
  {
   "cell_type": "code",
   "execution_count": 178,
   "id": "d178f4e4",
   "metadata": {},
   "outputs": [],
   "source": [
    "seating_model = pulp.LpProblem(\"WeddingSeatingModel\", pulp.LpMinimize)"
   ]
  },
  {
   "cell_type": "markdown",
   "id": "a55aea65",
   "metadata": {},
   "source": [
    "### Set the objective\n",
    "\n",
    "Adding a _value_ to model makes this the objective.\n",
    "Only one objective may be added to a model.\n",
    "Since we said this was an LpMinimize type, the objective is to minimize this value.\n",
    "\n",
    "`pulp.lpSum(vector)` Calculates the sum of a list of linear expressions.\n",
    "\n",
    "Parameters:  `vector` – A list of linear expressions"
   ]
  },
  {
   "cell_type": "code",
   "execution_count": 179,
   "id": "afe8b954",
   "metadata": {},
   "outputs": [],
   "source": [
    "seating_model += pulp.lpSum([unhappiness(table) * x[table] for table in possible_tables])"
   ]
  },
  {
   "cell_type": "markdown",
   "id": "cfb15d8e",
   "metadata": {},
   "source": [
    "### Set constraints\n",
    "Adding an _expression_  adds a constraint. The solution may not violate constraints.\n",
    "We specify the sensible constraint that the solution has to be <= some limit."
   ]
  },
  {
   "cell_type": "code",
   "execution_count": 180,
   "id": "0ae66968",
   "metadata": {},
   "outputs": [],
   "source": [
    "seating_model += pulp.lpSum([x[table] for table in possible_tables]) <= max_tables,\"Maximum_number_of_tables\""
   ]
  },
  {
   "cell_type": "markdown",
   "id": "98b1295f",
   "metadata": {},
   "source": [
    "Now we need to ensure that guests are not duplicated. They can sit at one table only. Add a constraint for each guest."
   ]
  },
  {
   "cell_type": "code",
   "execution_count": 181,
   "id": "c30171ef",
   "metadata": {},
   "outputs": [],
   "source": [
    "for guest in guests:\n",
    "    seating_model += pulp.lpSum([x[table] for table in possible_tables\n",
    "                                if guest in table]) == 1, \"Must_seat_%s\"%guest"
   ]
  },
  {
   "cell_type": "markdown",
   "id": "ee86caf6",
   "metadata": {},
   "source": [
    "### Tell the model to solve"
   ]
  },
  {
   "cell_type": "code",
   "execution_count": 182,
   "id": "ac4c6a17",
   "metadata": {},
   "outputs": [],
   "source": [
    "solution_status = seating_model.solve()"
   ]
  },
  {
   "cell_type": "markdown",
   "id": "02b456d7",
   "metadata": {},
   "source": [
    "### Show the solution"
   ]
  },
  {
   "cell_type": "code",
   "execution_count": 183,
   "id": "d494cef7",
   "metadata": {},
   "outputs": [
    {
     "name": "stdout",
     "output_type": "stream",
     "text": [
      "The chosen tables are out of a total of 3213:\n",
      "('Min', 'Nan')\n",
      "('Ed', 'Fin', 'Gru')\n",
      "('Ang', 'Bai', 'Cat', 'Don')\n",
      "('Ida', 'Jo', 'Koa', 'Li')\n",
      "('Odo', 'Pip', 'Q', 'Rip')\n"
     ]
    }
   ],
   "source": [
    "if solution_status < 0:\n",
    "    print(\"the problem is infeasible\")\n",
    "else:\n",
    "    print(\"The chosen tables are out of a total of %s:\"%len(possible_tables))\n",
    "    for table in possible_tables:\n",
    "        if x[table].value() > 0:\n",
    "            print(table)"
   ]
  },
  {
   "cell_type": "markdown",
   "id": "a76f5dfe",
   "metadata": {},
   "source": [
    "We can then play around with the table size and number of tables to see how this affects the solution, and easily rerun the cells to show the answer."
   ]
  },
  {
   "cell_type": "code",
   "execution_count": null,
   "id": "6d593eb4",
   "metadata": {},
   "outputs": [],
   "source": []
  }
 ],
 "metadata": {
  "kernelspec": {
   "display_name": "Python 3",
   "language": "python",
   "name": "python3"
  },
  "language_info": {
   "codemirror_mode": {
    "name": "ipython",
    "version": 3
   },
   "file_extension": ".py",
   "mimetype": "text/x-python",
   "name": "python",
   "nbconvert_exporter": "python",
   "pygments_lexer": "ipython3",
   "version": "3.9.1"
  }
 },
 "nbformat": 4,
 "nbformat_minor": 5
}
