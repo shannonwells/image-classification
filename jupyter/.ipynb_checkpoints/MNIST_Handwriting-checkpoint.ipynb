{
 "cells": [
  {
   "cell_type": "markdown",
   "id": "6856f0e4-c14f-4970-b6cb-5e92247951d3",
   "metadata": {},
   "source": [
    "# MNIST Handwriting Recognition\n",
    "\n",
    "In this example we use data from MNIST's handwriting recognition dataset to classify handwritten digits using Keras"
   ]
  },
  {
   "cell_type": "markdown",
   "id": "ea9e1c39-489d-4f46-8d0a-2104f479e92e",
   "metadata": {},
   "source": [
    "### Import Necessary Libraries"
   ]
  },
  {
   "cell_type": "code",
   "execution_count": 2,
   "id": "a41f1feb-3f54-4df6-baa0-924100d104c7",
   "metadata": {},
   "outputs": [],
   "source": [
    "import keras\n",
    "from keras import models\n",
    "from keras import layers\n",
    "from keras import callbacks\n",
    "from keras.utils.np_utils import to_categorical\n",
    "from keras.datasets import mnist"
   ]
  },
  {
   "cell_type": "markdown",
   "id": "9c3a60d0-a281-411a-83c8-8544a93eff35",
   "metadata": {},
   "source": [
    "### Load our Data\n",
    "\n",
    "Load the greyscale data from MNIST"
   ]
  },
  {
   "cell_type": "code",
   "execution_count": 3,
   "id": "4cc62c38-4b95-495a-8deb-32a67f9f995e",
   "metadata": {},
   "outputs": [],
   "source": [
    "(train_images, train_labels), (test_images, test_labels)= mnist.load_data()"
   ]
  },
  {
   "cell_type": "markdown",
   "id": "c401997c-5925-490c-9908-59390a8f47ca",
   "metadata": {},
   "source": [
    "### Get the training/testing data"
   ]
  },
  {
   "cell_type": "code",
   "execution_count": 4,
   "id": "54a99a77-1ce6-4e61-9ba8-2deece508119",
   "metadata": {},
   "outputs": [],
   "source": [
    "# Reshaping data-Adding number of channels as 1 (Grayscale images)\n",
    "train_images = train_images.reshape((train_images.shape[0], \n",
    "                                     train_images.shape[1], \n",
    "                                     train_images.shape[2], 1))\n",
    "  \n",
    "test_images = test_images.reshape((test_images.shape[0], \n",
    "                                   test_images.shape[1],\n",
    "                                   test_images.shape[2], 1))"
   ]
  },
  {
   "cell_type": "code",
   "execution_count": 5,
   "id": "ced76bf6-3c74-4dc9-9172-f25ef909a26c",
   "metadata": {},
   "outputs": [],
   "source": [
    "# Scaling down pixel values\n",
    "train_images = train_images.astype('float32')/255\n",
    "test_images = test_images.astype('float32')/255"
   ]
  },
  {
   "cell_type": "code",
   "execution_count": 6,
   "id": "118872e0-cfbb-4eb8-b0ed-95fa5aff11d0",
   "metadata": {},
   "outputs": [],
   "source": [
    "# Encoding labels to a binary class matrix\n",
    "y_train = to_categorical(train_labels)\n",
    "y_test = to_categorical(test_labels)"
   ]
  },
  {
   "cell_type": "markdown",
   "id": "4af36ad8-4e0e-4811-bb0f-ee82e54ddb69",
   "metadata": {},
   "source": [
    "### Create our model"
   ]
  },
  {
   "cell_type": "code",
   "execution_count": 7,
   "id": "fab70577-9f80-4c02-9a74-ab49255f81fc",
   "metadata": {},
   "outputs": [
    {
     "name": "stdout",
     "output_type": "stream",
     "text": [
      "Model: \"sequential_2\"\n",
      "_________________________________________________________________\n",
      "Layer (type)                 Output Shape              Param #   \n",
      "=================================================================\n",
      "conv2d_3 (Conv2D)            (None, 26, 26, 32)        320       \n",
      "_________________________________________________________________\n",
      "max_pooling2d_3 (MaxPooling2 (None, 13, 13, 32)        0         \n",
      "_________________________________________________________________\n",
      "conv2d_4 (Conv2D)            (None, 11, 11, 64)        18496     \n",
      "_________________________________________________________________\n",
      "max_pooling2d_4 (MaxPooling2 (None, 5, 5, 64)          0         \n",
      "_________________________________________________________________\n",
      "flatten_2 (Flatten)          (None, 1600)              0         \n",
      "_________________________________________________________________\n",
      "dense_3 (Dense)              (None, 64)                102464    \n",
      "_________________________________________________________________\n",
      "dense_4 (Dense)              (None, 10)                650       \n",
      "=================================================================\n",
      "Total params: 121,930\n",
      "Trainable params: 121,930\n",
      "Non-trainable params: 0\n",
      "_________________________________________________________________\n"
     ]
    }
   ],
   "source": [
    "model = models.Sequential()\n",
    "model.add(layers.Conv2D(32, (3, 3), activation =\"relu\", \n",
    "                             input_shape =(28, 28, 1)))\n",
    "model.add(layers.MaxPooling2D(2, 2))\n",
    "model.add(layers.Conv2D(64, (3, 3), activation =\"relu\"))\n",
    "model.add(layers.MaxPooling2D(2, 2))\n",
    "model.add(layers.Flatten())\n",
    "model.add(layers.Dense(64, activation =\"relu\"))\n",
    "model.add(layers.Dense(10, activation =\"softmax\"))\n",
    "  \n",
    "model.summary()"
   ]
  },
  {
   "cell_type": "code",
   "execution_count": 8,
   "id": "476d7943-e283-4c45-946a-42ea8c63d338",
   "metadata": {},
   "outputs": [],
   "source": [
    "model.compile(optimizer =\"rmsprop\", loss =\"categorical_crossentropy\",\n",
    "                                             metrics =['accuracy'])"
   ]
  },
  {
   "cell_type": "markdown",
   "id": "fee83d5f-9468-4704-b8a3-922bbfea3a99",
   "metadata": {},
   "source": [
    "### Get our training size\n",
    "\n",
    "For this example we are using 10,000 images"
   ]
  },
  {
   "cell_type": "code",
   "execution_count": 9,
   "id": "b42b43d7-7f90-4e53-8b6e-bf377dfb55ac",
   "metadata": {},
   "outputs": [],
   "source": [
    "val_images = train_images[:10000]\n",
    "partial_images = train_images[10000:]\n",
    "val_labels = y_train[:10000]\n",
    "partial_labels = y_train[10000:]"
   ]
  },
  {
   "cell_type": "markdown",
   "id": "f254823e-1f15-452a-b916-e6605c182c0e",
   "metadata": {},
   "source": [
    "### Run the data through the model\n",
    "\n",
    "Run the data through the model with a early stopping callback. This will stop the training when the loss is no longer decreasing."
   ]
  },
  {
   "cell_type": "code",
   "execution_count": 10,
   "id": "533ec478-fa6e-4ff4-adf6-d948ee58125a",
   "metadata": {},
   "outputs": [
    {
     "name": "stdout",
     "output_type": "stream",
     "text": [
      "Train on 50000 samples, validate on 10000 samples\n",
      "Epoch 1/25\n",
      "50000/50000 [==============================] - 17s 341us/step - loss: 0.2349 - accuracy: 0.9285 - val_loss: 0.1043 - val_accuracy: 0.9683\n",
      "Epoch 2/25\n",
      "50000/50000 [==============================] - 17s 348us/step - loss: 0.0638 - accuracy: 0.9800 - val_loss: 0.0562 - val_accuracy: 0.9834\n",
      "Epoch 3/25\n",
      "50000/50000 [==============================] - 17s 331us/step - loss: 0.0422 - accuracy: 0.9868 - val_loss: 0.0624 - val_accuracy: 0.9832\n",
      "Epoch 4/25\n",
      "50000/50000 [==============================] - 16s 330us/step - loss: 0.0311 - accuracy: 0.9901 - val_loss: 0.0451 - val_accuracy: 0.9871\n",
      "Epoch 5/25\n",
      "50000/50000 [==============================] - 16s 327us/step - loss: 0.0241 - accuracy: 0.9923 - val_loss: 0.0410 - val_accuracy: 0.9893\n",
      "Epoch 6/25\n",
      "50000/50000 [==============================] - 16s 328us/step - loss: 0.0192 - accuracy: 0.9938 - val_loss: 0.0446 - val_accuracy: 0.9887\n",
      "Epoch 7/25\n",
      "50000/50000 [==============================] - 16s 328us/step - loss: 0.0151 - accuracy: 0.9952 - val_loss: 0.0490 - val_accuracy: 0.9878\n",
      "Epoch 8/25\n",
      "50000/50000 [==============================] - 17s 336us/step - loss: 0.0121 - accuracy: 0.9962 - val_loss: 0.0465 - val_accuracy: 0.9883\n",
      "Epoch 9/25\n",
      "50000/50000 [==============================] - 17s 343us/step - loss: 0.0096 - accuracy: 0.9969 - val_loss: 0.0435 - val_accuracy: 0.9892\n",
      "Epoch 10/25\n",
      "50000/50000 [==============================] - 18s 354us/step - loss: 0.0080 - accuracy: 0.9973 - val_loss: 0.0479 - val_accuracy: 0.9885\n"
     ]
    }
   ],
   "source": [
    "earlystopping = callbacks.EarlyStopping(monitor =\"val_loss\", \n",
    "                                        mode =\"min\", patience = 5, \n",
    "                                        restore_best_weights = True)\n",
    "  \n",
    "history = model.fit(partial_images, partial_labels, batch_size = 128, \n",
    "                    epochs = 25, validation_data =(val_images, val_labels), \n",
    "                    callbacks =[earlystopping])"
   ]
  },
  {
   "cell_type": "code",
   "execution_count": 11,
   "id": "67b1decf-906a-483b-9aa5-d5b48fa01fe0",
   "metadata": {},
   "outputs": [],
   "source": [
    "model.save_weights('model_handwriting_mnist.h5')"
   ]
  }
 ],
 "metadata": {
  "kernelspec": {
   "display_name": "Python 3",
   "language": "python",
   "name": "python3"
  },
  "language_info": {
   "codemirror_mode": {
    "name": "ipython",
    "version": 3
   },
   "file_extension": ".py",
   "mimetype": "text/x-python",
   "name": "python",
   "nbconvert_exporter": "python",
   "pygments_lexer": "ipython3",
   "version": "3.7.10"
  }
 },
 "nbformat": 4,
 "nbformat_minor": 5
}
