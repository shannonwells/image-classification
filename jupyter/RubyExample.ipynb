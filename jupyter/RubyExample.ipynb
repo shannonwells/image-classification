{
 "cells": [
  {
   "cell_type": "markdown",
   "id": "62486942-a265-4942-8ff7-9722485df0c0",
   "metadata": {},
   "source": [
    "# Ruby Example\n",
    "---"
   ]
  },
  {
   "cell_type": "markdown",
   "id": "cea00ad7-1942-4823-b1e6-5446e30cc64f",
   "metadata": {},
   "source": [
    "### Running some code"
   ]
  },
  {
   "cell_type": "code",
   "execution_count": 2,
   "id": "2b8fade1-8865-41e0-ad96-6cb22dca6096",
   "metadata": {},
   "outputs": [
    {
     "name": "stdout",
     "output_type": "stream",
     "text": [
      "123"
     ]
    }
   ],
   "source": [
    "print 123"
   ]
  },
  {
   "cell_type": "markdown",
   "id": "6403ede5-2e57-4d35-8ee7-0d8189d77386",
   "metadata": {},
   "source": [
    "### Define a method"
   ]
  },
  {
   "cell_type": "code",
   "execution_count": 4,
   "id": "e39e0bbc-6233-4c27-8a7d-850f626ed8db",
   "metadata": {},
   "outputs": [
    {
     "data": {
      "text/plain": [
       ":test_method"
      ]
     },
     "execution_count": 4,
     "metadata": {},
     "output_type": "execute_result"
    }
   ],
   "source": [
    "def test_method\n",
    "    print \"Hello World!\"\n",
    "end"
   ]
  },
  {
   "cell_type": "markdown",
   "id": "506db02c-1cdf-45ba-9ec1-954008747287",
   "metadata": {},
   "source": [
    "# Run a method"
   ]
  },
  {
   "cell_type": "code",
   "execution_count": 5,
   "id": "9e5f4317-33e9-4271-adba-08c981ddaf2e",
   "metadata": {},
   "outputs": [
    {
     "name": "stdout",
     "output_type": "stream",
     "text": [
      "Hello World!"
     ]
    }
   ],
   "source": [
    "test_method"
   ]
  }
 ],
 "metadata": {
  "kernelspec": {
   "display_name": "Ruby 3.0.1",
   "language": "ruby",
   "name": "ruby"
  },
  "language_info": {
   "file_extension": ".rb",
   "mimetype": "application/x-ruby",
   "name": "ruby",
   "version": "3.0.1"
  }
 },
 "nbformat": 4,
 "nbformat_minor": 5
}
